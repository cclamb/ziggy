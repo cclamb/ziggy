{
 "cells": [
  {
   "cell_type": "code",
   "execution_count": 57,
   "metadata": {
    "collapsed": false
   },
   "outputs": [
    {
     "name": "stdout",
     "output_type": "stream",
     "text": [
      "@prefix rdf: <http://www.w3.org/1999/02/22-rdf-syntax-ns#> .\n",
      "@prefix rdfs: <http://www.w3.org/2000/01/rdf-schema#> .\n",
      "@prefix xml: <http://www.w3.org/XML/1998/namespace> .\n",
      "@prefix xsd: <http://www.w3.org/2001/XMLSchema#> .\n",
      "\n",
      "<http://www.unm.edu/scenario/boat> a \"ship\" ;\n",
      "    \"heading\" \"10\" ;\n",
      "    \"speed\" 12 ;\n",
      "    \"x\" \"10\" ;\n",
      "    \"y\" \"2\" .\n",
      "\n",
      "<http://www.unm.edu/scenario/boat_1> a \"boat\" ;\n",
      "    \"heading\" \"10\" ;\n",
      "    \"speed\" 25 ;\n",
      "    \"x\" \"2\" ;\n",
      "    \"y\" \"1\" .\n",
      "\n",
      "<http://www.unm.edu/scenario/boat_2> a \"boat\" ;\n",
      "    \"heading\" \"10\" ;\n",
      "    \"speed\" 25 ;\n",
      "    \"x\" \"2\" ;\n",
      "    \"y\" \"2\" .\n",
      "\n",
      "\n"
     ]
    }
   ],
   "source": [
    "from rdflib import Literal, Graph, BNode, RDF, Namespace\n",
    "\n",
    "class DataFactory:\n",
    "    \n",
    "    def __init__(self, g, n):\n",
    "        self.graph = g\n",
    "        self.namespace = n\n",
    "    \n",
    "    def build(self):\n",
    "        self.build_components()\n",
    "        return (self.graph, self.namespace)\n",
    "    \n",
    "\n",
    "class HardDataFactory(DataFactory):\n",
    "\n",
    "    def build_boats(self):\n",
    "        boat = self.namespace.boat_1\n",
    "        self.graph.add((boat, RDF.type, Literal('boat')))\n",
    "        self.graph.add((boat, Literal('speed'), Literal(25)))\n",
    "        self.graph.add((boat, Literal('heading'), rdflib.Literal('10')))  \n",
    "        self.graph.add((boat, Literal('x'), Literal('2')))\n",
    "        self.graph.add((boat, Literal('y'), Literal('1')))\n",
    "        boat = self.namespace.boat_2\n",
    "        self.graph.add((boat, RDF.type, Literal('boat')))\n",
    "        self.graph.add((boat, Literal('speed'), Literal(25)))\n",
    "        self.graph.add((boat, Literal('heading'), rdflib.Literal('10')))  \n",
    "        self.graph.add((boat, Literal('x'), Literal('2')))\n",
    "        self.graph.add((boat, Literal('y'), Literal('2')))\n",
    "\n",
    "    def build_target(self):\n",
    "        ship = self.namespace.ship\n",
    "        self.graph.add((boat, RDF.type, Literal('ship')))\n",
    "        self.graph.add((boat, Literal('speed'), Literal(12)))\n",
    "        self.graph.add((boat, Literal('heading'), rdflib.Literal('10')))  \n",
    "        self.graph.add((boat, Literal('x'), Literal('10')))\n",
    "        self.graph.add((boat, Literal('y'), Literal('2')))\n",
    "    \n",
    "    def build_components(self):\n",
    "        self.build_boats()\n",
    "        self.build_target()\n",
    "    \n",
    "    \n",
    "class SoftDataFactory(DataFactory):\n",
    "        \n",
    "    def build_components(self):\n",
    "        return\n",
    "\n",
    "\n",
    "n = Namespace('http://www.unm.edu/scenario/')\n",
    "g = Graph()\n",
    "\n",
    "hf = HardDataFactory(g, n)\n",
    "g, n = hf.build()\n",
    "\n",
    "sf = SoftDataFactory(g, n)\n",
    "g, n = sf.build()\n",
    "\n",
    "print g.serialize(format='turtle')\n"
   ]
  }
 ],
 "metadata": {
  "kernelspec": {
   "display_name": "Python 2",
   "language": "python",
   "name": "python2"
  },
  "language_info": {
   "codemirror_mode": {
    "name": "ipython",
    "version": 2
   },
   "file_extension": ".py",
   "mimetype": "text/x-python",
   "name": "python",
   "nbconvert_exporter": "python",
   "pygments_lexer": "ipython2",
   "version": "2.7.6"
  }
 },
 "nbformat": 4,
 "nbformat_minor": 0
}
